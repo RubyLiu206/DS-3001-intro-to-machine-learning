{
 "cells": [
  {
   "cell_type": "markdown",
   "metadata": {},
   "source": [
    "# Introduction to Machine Learning\n",
    "## Lab 1\n",
    "\n",
    "Student Name: \n",
    "\n",
    "Student Netid: \n",
    "***"
   ]
  },
  {
   "cell_type": "markdown",
   "metadata": {},
   "source": [
    "### Part 1: Case study (0 Points - for getting a feedback)\n",
    "- Read [this article](http://www.nytimes.com/2012/02/19/magazine/shopping-habits.html) in the New York Times.\n",
    "- Use what we've learned in class and from the book to describe how one could set Target's problem up as a predictive modeling problem, such that they could have gotten the results that they did.  Formulate your solution as a proposed plan using our data science terminology.  Include all the aspects of the formulation that you see as relevant to solving the problem.  Be precise but concise."
   ]
  },
  {
   "cell_type": "markdown",
   "metadata": {},
   "source": [
    "Place your answer here!"
   ]
  },
  {
   "cell_type": "markdown",
   "metadata": {},
   "source": [
    "### Part 2: Exploring data in the command line (2 Points - one question is optional)\n",
    "For this part we will be using the data file located in `\"data/advertising_events.csv\"`. This file consists of records that pertain to some online advertising events on a given day. There are 4 comma separated columns in this order: `userid`, `timestamp`, `domain`, and `action`. These fields are of type `int`, `int`, `string`, and `int` respectively. Answer the following questions using Linux/Unix bash commands. All questions can be answered in one line (sometimes, with pipes)! Some questions will have many possible solutions. Don't forget that in IPython notebooks you must prefix all bash commands with an exclamation point, i.e. `\"!command arguments\"`.\n",
    "\n",
    "[Hints: You can experiment with whatever you want in the notebook and then delete things to construct your answer later.  You can also use ssh to use the actual bash shell on EC2 (see original directions) and then just paste your answers here. Recall that once you enter the \"!\" then filename completion should work.]"
   ]
  },
  {
   "cell_type": "markdown",
   "metadata": {},
   "source": [
    "1\\. How many records (lines) are in this file? (look up 'wc' command)"
   ]
  },
  {
   "cell_type": "code",
   "execution_count": 32,
   "metadata": {},
   "outputs": [
    {
     "name": "stderr",
     "output_type": "stream",
     "text": [
      "'wc' is not recognized as an internal or external command,\n",
      "operable program or batch file.\n"
     ]
    }
   ],
   "source": [
    "!wc -l advertising_events.csv"
   ]
  },
  {
   "cell_type": "markdown",
   "metadata": {},
   "source": [
    "2\\. How many unique users are in this file? (hint: consider the 'cut' command and use pipe operator '|')"
   ]
  },
  {
   "cell_type": "code",
   "execution_count": 34,
   "metadata": {},
   "outputs": [
    {
     "name": "stderr",
     "output_type": "stream",
     "text": [
      "'cut' is not recognized as an internal or external command,\n",
      "operable program or batch file.\n"
     ]
    }
   ],
   "source": [
    "# Place your code here\n",
    "!cut -f 1 advertising_events.csv | sort | uniq |wc -l"
   ]
  },
  {
   "cell_type": "markdown",
   "metadata": {},
   "source": [
    "3\\. List all records for the user with user id 37. (hint: this can be done using 'grep')"
   ]
  },
  {
   "cell_type": "code",
   "execution_count": 35,
   "metadata": {},
   "outputs": [
    {
     "name": "stderr",
     "output_type": "stream",
     "text": [
      "'grep' is not recognized as an internal or external command,\n",
      "operable program or batch file.\n"
     ]
    }
   ],
   "source": [
    "# Place your code here\n",
    "!grep -f 1 \"37\""
   ]
  },
  {
   "cell_type": "markdown",
   "metadata": {},
   "source": [
    "### Part 3: Dealing with data Pythonically (13 Points - 3 points are extra)"
   ]
  },
  {
   "cell_type": "markdown",
   "metadata": {},
   "source": [
    "1\\. (1 Point) Download the data set `\"data/ads_dataset.tsv\"` and load it into a Python Pandas data frame called `ads`."
   ]
  },
  {
   "cell_type": "code",
   "execution_count": 61,
   "metadata": {},
   "outputs": [
    {
     "name": "stdout",
     "output_type": "stream",
     "text": [
      "     isbuyer  buy_freq  visit_freq  buy_interval  sv_interval  \\\n",
      "NaN        0       NaN           1           0.0     0.000000   \n",
      "NaN        0       NaN           1           0.0     0.000000   \n",
      "NaN        0       NaN           1           0.0     0.000000   \n",
      "NaN        0       NaN           1           0.0     0.000000   \n",
      "NaN        0       NaN           2           0.0     0.500000   \n",
      "NaN        0       NaN           1           0.0     0.000000   \n",
      "NaN        0       NaN           1           0.0     0.000000   \n",
      "NaN        0       NaN           2           0.0    29.791670   \n",
      "NaN        0       NaN           3           0.0    45.479170   \n",
      "NaN        0       NaN           1           0.0     0.000000   \n",
      "NaN        1       1.0           2           0.0     0.958333   \n",
      "NaN        0       NaN           2           0.0    21.333330   \n",
      "NaN        0       NaN           1           0.0     0.000000   \n",
      "NaN        0       NaN           1           0.0     0.000000   \n",
      "NaN        0       NaN           1           0.0     0.000000   \n",
      "NaN        0       NaN           1           0.0     0.000000   \n",
      "NaN        0       NaN           1           0.0     0.000000   \n",
      "NaN        0       NaN           2           0.0    15.958330   \n",
      "NaN        0       NaN           1           0.0     0.000000   \n",
      "NaN        0       NaN           1           0.0     0.000000   \n",
      "NaN        0       NaN           2           0.0    27.250000   \n",
      "NaN        0       NaN           2           0.0   133.125000   \n",
      "NaN        0       NaN           3           0.0     8.395833   \n",
      "NaN        0       NaN           1           0.0     0.000000   \n",
      "NaN        0       NaN           1           0.0     0.000000   \n",
      "NaN        0       NaN           8           0.0    15.994050   \n",
      "NaN        0       NaN           1           0.0     0.000000   \n",
      "NaN        0       NaN           1           0.0     0.000000   \n",
      "NaN        0       NaN           1           0.0     0.000000   \n",
      "NaN        0       NaN           1           0.0     0.000000   \n",
      "..       ...       ...         ...           ...          ...   \n",
      "NaN        0       NaN           1           0.0     0.000000   \n",
      "NaN        0       NaN           1           0.0     0.000000   \n",
      "NaN        0       NaN           1           0.0     0.000000   \n",
      "NaN        0       NaN           1           0.0     0.000000   \n",
      "NaN        0       NaN           1           0.0     0.000000   \n",
      "NaN        0       NaN           1           0.0     0.000000   \n",
      "NaN        0       NaN           1           0.0     0.000000   \n",
      "NaN        0       NaN           1           0.0     0.000000   \n",
      "NaN        0       NaN           3           0.0    28.229170   \n",
      "NaN        0       NaN           1           0.0     0.000000   \n",
      "NaN        0       NaN           1           0.0     0.000000   \n",
      "NaN        0       NaN           1           0.0     0.000000   \n",
      "NaN        0       NaN           2           0.0     8.541667   \n",
      "NaN        0       NaN           1           0.0     0.000000   \n",
      "NaN        0       NaN           1           0.0     0.000000   \n",
      "NaN        0       NaN           1           0.0     0.000000   \n",
      "NaN        0       NaN           1           0.0     0.000000   \n",
      "NaN        0       NaN          10           0.0     7.101852   \n",
      "NaN        0       NaN           1           0.0     0.000000   \n",
      "NaN        0       NaN           1           0.0     0.000000   \n",
      "NaN        0       NaN           2           0.0   131.083300   \n",
      "NaN        0       NaN           1           0.0     0.000000   \n",
      "NaN        0       NaN           1           0.0     0.000000   \n",
      "NaN        0       NaN           1           0.0     0.000000   \n",
      "NaN        0       NaN           1           0.0     0.000000   \n",
      "NaN        0       NaN           3           0.0    30.979170   \n",
      "NaN        0       NaN           2           0.0     1.041667   \n",
      "NaN        0       NaN           1           0.0     0.000000   \n",
      "NaN        0       NaN           1           0.0     0.000000   \n",
      "NaN        0       NaN           1           0.0     0.000000   \n",
      "\n",
      "     expected_time_buy  expected_time_visit  last_buy  last_visit  \\\n",
      "NaN                0.0             0.000000       106         106   \n",
      "NaN                0.0             0.000000        72          72   \n",
      "NaN                0.0             0.000000         5           5   \n",
      "NaN                0.0             0.000000         6           6   \n",
      "NaN                0.0          -101.149300       101         101   \n",
      "NaN                0.0             0.000000        42          42   \n",
      "NaN                0.0             0.000000        42          42   \n",
      "NaN                0.0          -106.188300       121         121   \n",
      "NaN                0.0           -34.144730        64          64   \n",
      "NaN                0.0             0.000000        13          13   \n",
      "NaN                0.0           -20.671200        21          21   \n",
      "NaN                0.0          -108.323000       118         118   \n",
      "NaN                0.0             0.000000       151         151   \n",
      "NaN                0.0             0.000000        19          19   \n",
      "NaN                0.0             0.000000        81          81   \n",
      "NaN                0.0             0.000000        68          68   \n",
      "NaN                0.0             0.000000        36          36   \n",
      "NaN                0.0            -6.683471        14          14   \n",
      "NaN                0.0             0.000000        19          19   \n",
      "NaN                0.0             0.000000        70          70   \n",
      "NaN                0.0          -124.610000       138         138   \n",
      "NaN                0.0            50.474090        16          16   \n",
      "NaN                0.0             2.534722         3           3   \n",
      "NaN                0.0             0.000000         9           9   \n",
      "NaN                0.0             0.000000       145         145   \n",
      "NaN                0.0            12.569260         1           1   \n",
      "NaN                0.0             0.000000        39          39   \n",
      "NaN                0.0             0.000000        34          34   \n",
      "NaN                0.0             0.000000       135         135   \n",
      "NaN                0.0             0.000000        77          77   \n",
      "..                 ...                  ...       ...         ...   \n",
      "NaN                0.0             0.000000         6           6   \n",
      "NaN                0.0             0.000000        44          44   \n",
      "NaN                0.0             0.000000        85          85   \n",
      "NaN                0.0             0.000000        49          49   \n",
      "NaN                0.0             0.000000        30          30   \n",
      "NaN                0.0             0.000000        10          10   \n",
      "NaN                0.0             0.000000        77          77   \n",
      "NaN                0.0             0.000000        14          14   \n",
      "NaN                0.0            -7.932672        26          26   \n",
      "NaN                0.0             0.000000        48          48   \n",
      "NaN                0.0             0.000000        38          38   \n",
      "NaN                0.0             0.000000        70          70   \n",
      "NaN                0.0           -14.237070        18          18   \n",
      "NaN                0.0             0.000000        71          71   \n",
      "NaN                0.0             0.000000       185         185   \n",
      "NaN                0.0             0.000000        95          95   \n",
      "NaN                0.0             0.000000       134         134   \n",
      "NaN                0.0             3.137754         3           3   \n",
      "NaN                0.0             0.000000       109         109   \n",
      "NaN                0.0             0.000000        57          57   \n",
      "NaN                0.0            34.678500        30          30   \n",
      "NaN                0.0             0.000000       181         181   \n",
      "NaN                0.0             0.000000        69          69   \n",
      "NaN                0.0             0.000000       119         119   \n",
      "NaN                0.0             0.000000        37          37   \n",
      "NaN                0.0            12.621240         8           8   \n",
      "NaN                0.0            -0.916713         1           1   \n",
      "NaN                0.0             0.000000        20          20   \n",
      "NaN                0.0             0.000000       180         180   \n",
      "NaN                0.0             0.000000       185         185   \n",
      "\n",
      "     multiple_buy  multiple_visit  uniq_urls  num_checkins  y_buy  \n",
      "NaN             0               0        169          2130      0  \n",
      "NaN             0               0        154          1100      0  \n",
      "NaN             0               0          4            12      0  \n",
      "NaN             0               0        150           539      0  \n",
      "NaN             0               1        103           362      0  \n",
      "NaN             0               0         17            35      0  \n",
      "NaN             0               0         42           110      0  \n",
      "NaN             0               1        101           401      0  \n",
      "NaN             0               1        100           298      0  \n",
      "NaN             0               0         53           247      0  \n",
      "NaN             0               1         65           175      0  \n",
      "NaN             0               1        163           891      0  \n",
      "NaN             0               0         24           198      0  \n",
      "NaN             0               0         16            48      0  \n",
      "NaN             0               0         32           177      0  \n",
      "NaN             0               0         64           305      0  \n",
      "NaN             0               0         76           163      0  \n",
      "NaN             0               1        101          1105      0  \n",
      "NaN             0               0         30            76      0  \n",
      "NaN             0               0        168          1317      0  \n",
      "NaN             0               1        172           828      0  \n",
      "NaN             0               1         67           396      0  \n",
      "NaN             0               1        146           398      0  \n",
      "NaN             0               0         -1            26      0  \n",
      "NaN             0               0        179          1215      0  \n",
      "NaN             0               1         64           167      0  \n",
      "NaN             0               0        165          3883      0  \n",
      "NaN             0               0         96           219      0  \n",
      "NaN             0               0        143          1011      0  \n",
      "NaN             0               0         81           219      0  \n",
      "..            ...             ...        ...           ...    ...  \n",
      "NaN             0               0          0           182      0  \n",
      "NaN             0               0         84           139      0  \n",
      "NaN             0               0        169           276      0  \n",
      "NaN             0               0         18            45      0  \n",
      "NaN             0               0         53           506      0  \n",
      "NaN             0               0        109          1131      0  \n",
      "NaN             0               0         11            38      0  \n",
      "NaN             0               0          9            87      0  \n",
      "NaN             0               1        162          1178      0  \n",
      "NaN             0               0         39           139      0  \n",
      "NaN             0               0         26           117      0  \n",
      "NaN             0               0        171           506      0  \n",
      "NaN             0               1         -1             3      0  \n",
      "NaN             0               0         63           254      0  \n",
      "NaN             0               0        184          1358      0  \n",
      "NaN             0               0        164          2462      0  \n",
      "NaN             0               0        174           499      0  \n",
      "NaN             0               1        103           255      0  \n",
      "NaN             0               0        143           808      0  \n",
      "NaN             0               0        164          1912      0  \n",
      "NaN             0               1         30           214      0  \n",
      "NaN             0               0         22           125      0  \n",
      "NaN             0               0         95           187      0  \n",
      "NaN             0               0        103          1338      0  \n",
      "NaN             0               0          1            22      0  \n",
      "NaN             0               1        168          2080      0  \n",
      "NaN             0               1          1            15      0  \n",
      "NaN             0               0        132           556      0  \n",
      "NaN             0               0         71           400      0  \n",
      "NaN             0               0         77           401      0  \n",
      "\n",
      "[54584 rows x 14 columns]\n"
     ]
    }
   ],
   "source": [
    "# Place your code here\n",
    "import numpy as np\n",
    "import pandas as pd\n",
    "ads = pd.read_csv('ads_dataset.tsv', sep = '\\t',encoding='utf-8')\n",
    "print(ads)"
   ]
  },
  {
   "cell_type": "markdown",
   "metadata": {},
   "source": [
    "2\\. (4 Points) Write a Python function called `getDfSummary()` that does the following:\n",
    "- Takes as input a data frame\n",
    "- For each variable in the data frame calculates the following features:\n",
    "  - `number_nan` to count the number of missing not-a-number values\n",
    "  - Ignoring missing, NA, and Null values:\n",
    "    - `number_distinct` to count the number of distinct values a variable can take on\n",
    "    - `mean`, `max`, `min`, `std` (standard deviation), and `25%`, `50%`, `75%` to correspond to the appropriate percentiles\n",
    "- All of these new features should be loaded in a new data frame. Each row of the data frame should be a variable from the input data frame, and the columns should be the new summary features.\n",
    "- Returns this new data frame containing all of the summary information\n",
    "\n",
    "Hint: The pandas `describe()` method returns a useful series of values that can be used here."
   ]
  },
  {
   "cell_type": "code",
   "execution_count": 62,
   "metadata": {},
   "outputs": [],
   "source": [
    "\n",
    "def getDfSummary(input_data):\n",
    "    # Place your code here\n",
    "    #new a new data frame\n",
    "    #for each variable compute the number_nan, num_distinct, mean, max, min, std\n",
    "    #put the input_data's column to the output_data's index\n",
    "    #put the new features to the output_data's columns\n",
    "    each_rpw = []\n",
    "    for feature in input_data:\n",
    "        num_nan = np.count_nonzero(input_data[feature].isnull())\n",
    "        num_distinct = input_data[feature].nunique()\n",
    "        des = input_data[feature].describe()[['Mean','Max','Min','Std','25%','50%','75%']].values.tolist()\n",
    "        each_row.append([num_nan,num_distinct]+des)\n",
    "    output_data = pd.DataFrame(each_row)\n",
    "    output_data.columns = ['Number_NaN','Number_Distinct','Mean','Max','Min','Std','25%','50%','75%']\n",
    "    output_data.index = [input_data.columns]\n",
    "    return output_data"
   ]
  },
  {
   "cell_type": "markdown",
   "metadata": {},
   "source": [
    "3\\. How long does it take for your `getDfSummary()` function to work on your `ads` data frame? Show us the results below.\n",
    "\n",
    "Hint: `use %timeit`"
   ]
  },
  {
   "cell_type": "code",
   "execution_count": 51,
   "metadata": {},
   "outputs": [
    {
     "ename": "SyntaxError",
     "evalue": "unexpected EOF while parsing (<ipython-input-51-60fe8597c5a9>, line 3)",
     "output_type": "error",
     "traceback": [
      "\u001b[1;36m  File \u001b[1;32m\"<ipython-input-51-60fe8597c5a9>\"\u001b[1;36m, line \u001b[1;32m3\u001b[0m\n\u001b[1;33m    print(timeit.timeit(stmt = getDfSummary, number = 1000)\u001b[0m\n\u001b[1;37m                                                           ^\u001b[0m\n\u001b[1;31mSyntaxError\u001b[0m\u001b[1;31m:\u001b[0m unexpected EOF while parsing\n"
     ]
    }
   ],
   "source": [
    "# Place your code here\n",
    "import timeit\n",
    "print(timeit.timeit(stmt = getDfSummary, number = 1000)"
   ]
  },
  {
   "cell_type": "markdown",
   "metadata": {},
   "source": [
    "4\\. (2 Points) Using the results returned from `getDfSummary()`, which fields, if any, contain missing `NaN` values?"
   ]
  },
  {
   "cell_type": "code",
   "execution_count": null,
   "metadata": {
    "collapsed": true
   },
   "outputs": [],
   "source": [
    "# Place your code here"
   ]
  },
  {
   "cell_type": "markdown",
   "metadata": {},
   "source": [
    "5\\. (4 Points) For the fields with missing values, does it look like the data is missing at random? Are there any other fields that correlate perfectly, or predict that the data is missing? If missing, what should the data value be? Don't just show code here. Please explain your answer.\n",
    "\n",
    "Hint: create another data frame that has just the records with a missing value. Get a summary of this data frame using `getDfSummary()` and compare the differences. Do some feature distributions change dramatically?"
   ]
  },
  {
   "cell_type": "code",
   "execution_count": null,
   "metadata": {
    "collapsed": true
   },
   "outputs": [],
   "source": [
    "# Place your code here"
   ]
  },
  {
   "cell_type": "markdown",
   "metadata": {},
   "source": [
    "6\\. (4 Points) Which variables are binary?"
   ]
  },
  {
   "cell_type": "code",
   "execution_count": null,
   "metadata": {},
   "outputs": [],
   "source": [
    "# Place your code here"
   ]
  },
  {
   "cell_type": "markdown",
   "metadata": {},
   "source": [
    "### Part 4: $\\LaTeX$ (3 Points)\n",
    "[LaTeX](https://www.latex-project.org/about/) is a high-quality typesetting system which includes features designed for the production of technical and scientific documentation. You can write mathematical equations in jupyter notebooks using LaTeX by surrounding the LaTeX code with `$`. \n",
    "\n",
    "Example: $e^x=\\sum_{i=0}^\\infty \\frac{1}{i!}x^i$\n",
    "\n",
    "Write the following equations in LaTeX!"
   ]
  },
  {
   "cell_type": "markdown",
   "metadata": {},
   "source": [
    "1\\.\n",
    "<img src=\"latex_eq_1.png\">"
   ]
  },
  {
   "cell_type": "markdown",
   "metadata": {},
   "source": [
    "Place your answer here!"
   ]
  },
  {
   "cell_type": "markdown",
   "metadata": {},
   "source": [
    "2\\.\n",
    "<img src=\"latex_eq_2.png\">"
   ]
  },
  {
   "cell_type": "markdown",
   "metadata": {},
   "source": [
    "Place your answer here!"
   ]
  },
  {
   "cell_type": "markdown",
   "metadata": {},
   "source": [
    "3\\.\n",
    "<img src=\"latex_eq_3.png\">"
   ]
  },
  {
   "cell_type": "markdown",
   "metadata": {},
   "source": [
    "Place your answer here!"
   ]
  }
 ],
 "metadata": {
  "kernelspec": {
   "display_name": "Python 3",
   "language": "python",
   "name": "python3"
  },
  "language_info": {
   "codemirror_mode": {
    "name": "ipython",
    "version": 3
   },
   "file_extension": ".py",
   "mimetype": "text/x-python",
   "name": "python",
   "nbconvert_exporter": "python",
   "pygments_lexer": "ipython3",
   "version": "3.7.1"
  }
 },
 "nbformat": 4,
 "nbformat_minor": 1
}
